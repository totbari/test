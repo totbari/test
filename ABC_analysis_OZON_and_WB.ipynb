{
 "cells": [
  {
   "cell_type": "markdown",
   "id": "329bd685",
   "metadata": {},
   "source": [
    "### Добавляем файл с 4 стольбцами и  делаем анализ"
   ]
  },
  {
   "cell_type": "code",
   "execution_count": 1,
   "id": "86a45cdc",
   "metadata": {},
   "outputs": [],
   "source": [
    "import numpy as np\n",
    "import pandas as pd\n",
    "import pathlib\n",
    "from pathlib import Path\n",
    "import openpyxl\n",
    "from openpyxl import load_workbook\n",
    "import xlrd, xlwt\n",
    "import seaborn as sns"
   ]
  },
  {
   "cell_type": "code",
   "execution_count": 8,
   "id": "52ac4901",
   "metadata": {},
   "outputs": [
    {
     "name": "stdout",
     "output_type": "stream",
     "text": [
      "Ведите название файла для чистки: Новая таблица\n",
      "['WB']\n"
     ]
    }
   ],
   "source": [
    "#Название вкладок в экселе\n",
    "file_for_cleaning = input ('Ведите название файла для чистки: ')\n",
    "path = Path(pathlib.Path.home(), \"Desktop\", file_for_cleaning+\".xlsx\")\n",
    "wookbook = openpyxl.load_workbook(path)\n",
    "print (wookbook.sheetnames)"
   ]
  },
  {
   "cell_type": "code",
   "execution_count": 9,
   "id": "9d543483",
   "metadata": {},
   "outputs": [
    {
     "data": {
      "text/html": [
       "<div>\n",
       "<style scoped>\n",
       "    .dataframe tbody tr th:only-of-type {\n",
       "        vertical-align: middle;\n",
       "    }\n",
       "\n",
       "    .dataframe tbody tr th {\n",
       "        vertical-align: top;\n",
       "    }\n",
       "\n",
       "    .dataframe thead th {\n",
       "        text-align: right;\n",
       "    }\n",
       "</style>\n",
       "<table border=\"1\" class=\"dataframe\">\n",
       "  <thead>\n",
       "    <tr style=\"text-align: right;\">\n",
       "      <th></th>\n",
       "      <th>sku</th>\n",
       "      <th>Продажи</th>\n",
       "      <th>Выручка</th>\n",
       "      <th>МД3</th>\n",
       "    </tr>\n",
       "  </thead>\n",
       "  <tbody>\n",
       "    <tr>\n",
       "      <th>0</th>\n",
       "      <td>XY0005</td>\n",
       "      <td>837</td>\n",
       "      <td>294470.930000</td>\n",
       "      <td>94003.495534</td>\n",
       "    </tr>\n",
       "    <tr>\n",
       "      <th>1</th>\n",
       "      <td>BS0005</td>\n",
       "      <td>85</td>\n",
       "      <td>52775.220588</td>\n",
       "      <td>14180.862670</td>\n",
       "    </tr>\n",
       "    <tr>\n",
       "      <th>2</th>\n",
       "      <td>XY0008</td>\n",
       "      <td>67</td>\n",
       "      <td>47009.625000</td>\n",
       "      <td>10475.561850</td>\n",
       "    </tr>\n",
       "    <tr>\n",
       "      <th>3</th>\n",
       "      <td>BS0003</td>\n",
       "      <td>81</td>\n",
       "      <td>39396.240000</td>\n",
       "      <td>7484.192040</td>\n",
       "    </tr>\n",
       "    <tr>\n",
       "      <th>4</th>\n",
       "      <td>XY0024</td>\n",
       "      <td>85</td>\n",
       "      <td>25927.200000</td>\n",
       "      <td>5952.410880</td>\n",
       "    </tr>\n",
       "  </tbody>\n",
       "</table>\n",
       "</div>"
      ],
      "text/plain": [
       "      sku  Продажи        Выручка           МД3\n",
       "0  XY0005      837  294470.930000  94003.495534\n",
       "1  BS0005       85   52775.220588  14180.862670\n",
       "2  XY0008       67   47009.625000  10475.561850\n",
       "3  BS0003       81   39396.240000   7484.192040\n",
       "4  XY0024       85   25927.200000   5952.410880"
      ]
     },
     "execution_count": 9,
     "metadata": {},
     "output_type": "execute_result"
    }
   ],
   "source": [
    "#чтение эксель файла\n",
    "teapot = pd.read_excel(path, sheet_name= 'WB')\n",
    "df = pd.DataFrame(teapot)\n",
    "df.head()"
   ]
  },
  {
   "cell_type": "code",
   "execution_count": 10,
   "id": "99c7737f",
   "metadata": {},
   "outputs": [],
   "source": [
    "#Вводим название столбца\n",
    "revenue = 'Выручка'\n",
    "sales = 'Продажи'\n",
    "Margin = 'МД3'"
   ]
  },
  {
   "cell_type": "code",
   "execution_count": 11,
   "id": "cbbd169c",
   "metadata": {},
   "outputs": [
    {
     "name": "stderr",
     "output_type": "stream",
     "text": [
      "/opt/anaconda3/lib/python3.9/site-packages/seaborn/distributions.py:2619: FutureWarning: `distplot` is a deprecated function and will be removed in a future version. Please adapt your code to use either `displot` (a figure-level function with similar flexibility) or `histplot` (an axes-level function for histograms).\n",
      "  warnings.warn(msg, FutureWarning)\n"
     ]
    },
    {
     "data": {
      "text/plain": [
       "<AxesSubplot:xlabel='Выручка', ylabel='Density'>"
      ]
     },
     "execution_count": 11,
     "metadata": {},
     "output_type": "execute_result"
    },
    {
     "data": {
      "image/png": "[encoded data removed]",
      "text/plain": [
       "<Figure size 432x288 with 1 Axes>"
      ]
     },
     "metadata": {
      "needs_background": "light"
     },
     "output_type": "display_data"
    }
   ],
   "source": [
    "#Показано распределение Парето, найденное в данных. \n",
    "sns.distplot(df[revenue])"
   ]
  },
  {
   "cell_type": "code",
   "execution_count": 12,
   "id": "1e13c7e8",
   "metadata": {},
   "outputs": [
    {
     "data": {
      "text/html": [
       "<div>\n",
       "<style scoped>\n",
       "    .dataframe tbody tr th:only-of-type {\n",
       "        vertical-align: middle;\n",
       "    }\n",
       "\n",
       "    .dataframe tbody tr th {\n",
       "        vertical-align: top;\n",
       "    }\n",
       "\n",
       "    .dataframe thead th {\n",
       "        text-align: right;\n",
       "    }\n",
       "</style>\n",
       "<table border=\"1\" class=\"dataframe\">\n",
       "  <thead>\n",
       "    <tr style=\"text-align: right;\">\n",
       "      <th></th>\n",
       "      <th>sku</th>\n",
       "      <th>Продажи</th>\n",
       "      <th>Выручка</th>\n",
       "      <th>МД3</th>\n",
       "      <th>Доля Выручки</th>\n",
       "      <th>Аккум.доля Выручки</th>\n",
       "      <th>Категория Выручки</th>\n",
       "      <th>Доля Продажи</th>\n",
       "      <th>Аккум.доля Продажи</th>\n",
       "      <th>Категория Продажи</th>\n",
       "      <th>Доля Маржа3</th>\n",
       "      <th>Аккум.доля Маржа3</th>\n",
       "      <th>Категория Маржа3</th>\n",
       "      <th>Категори</th>\n",
       "    </tr>\n",
       "  </thead>\n",
       "  <tbody>\n",
       "    <tr>\n",
       "      <th>0</th>\n",
       "      <td>XY0005</td>\n",
       "      <td>837</td>\n",
       "      <td>294470.930000</td>\n",
       "      <td>94003.495534</td>\n",
       "      <td>0.520751</td>\n",
       "      <td>0.520751</td>\n",
       "      <td>A</td>\n",
       "      <td>0.563636</td>\n",
       "      <td>0.563636</td>\n",
       "      <td>A</td>\n",
       "      <td>0.636513</td>\n",
       "      <td>0.636513</td>\n",
       "      <td>A</td>\n",
       "      <td>AAA</td>\n",
       "    </tr>\n",
       "    <tr>\n",
       "      <th>1</th>\n",
       "      <td>BS0005</td>\n",
       "      <td>85</td>\n",
       "      <td>52775.220588</td>\n",
       "      <td>14180.862670</td>\n",
       "      <td>0.093329</td>\n",
       "      <td>0.614080</td>\n",
       "      <td>A</td>\n",
       "      <td>0.057239</td>\n",
       "      <td>0.620875</td>\n",
       "      <td>A</td>\n",
       "      <td>0.096021</td>\n",
       "      <td>0.732534</td>\n",
       "      <td>A</td>\n",
       "      <td>AAA</td>\n",
       "    </tr>\n",
       "    <tr>\n",
       "      <th>2</th>\n",
       "      <td>XY0008</td>\n",
       "      <td>67</td>\n",
       "      <td>47009.625000</td>\n",
       "      <td>10475.561850</td>\n",
       "      <td>0.083133</td>\n",
       "      <td>0.697213</td>\n",
       "      <td>A</td>\n",
       "      <td>0.045118</td>\n",
       "      <td>0.777778</td>\n",
       "      <td>A</td>\n",
       "      <td>0.070932</td>\n",
       "      <td>0.803466</td>\n",
       "      <td>B</td>\n",
       "      <td>AAB</td>\n",
       "    </tr>\n",
       "    <tr>\n",
       "      <th>3</th>\n",
       "      <td>BS0003</td>\n",
       "      <td>81</td>\n",
       "      <td>39396.240000</td>\n",
       "      <td>7484.192040</td>\n",
       "      <td>0.069669</td>\n",
       "      <td>0.766883</td>\n",
       "      <td>A</td>\n",
       "      <td>0.054545</td>\n",
       "      <td>0.732660</td>\n",
       "      <td>A</td>\n",
       "      <td>0.050677</td>\n",
       "      <td>0.854143</td>\n",
       "      <td>B</td>\n",
       "      <td>AAB</td>\n",
       "    </tr>\n",
       "    <tr>\n",
       "      <th>4</th>\n",
       "      <td>XY0024</td>\n",
       "      <td>85</td>\n",
       "      <td>25927.200000</td>\n",
       "      <td>5952.410880</td>\n",
       "      <td>0.045850</td>\n",
       "      <td>0.812733</td>\n",
       "      <td>B</td>\n",
       "      <td>0.057239</td>\n",
       "      <td>0.678114</td>\n",
       "      <td>A</td>\n",
       "      <td>0.040305</td>\n",
       "      <td>0.894448</td>\n",
       "      <td>B</td>\n",
       "      <td>BAB</td>\n",
       "    </tr>\n",
       "  </tbody>\n",
       "</table>\n",
       "</div>"
      ],
      "text/plain": [
       "      sku  Продажи        Выручка           МД3  Доля Выручки  \\\n",
       "0  XY0005      837  294470.930000  94003.495534      0.520751   \n",
       "1  BS0005       85   52775.220588  14180.862670      0.093329   \n",
       "2  XY0008       67   47009.625000  10475.561850      0.083133   \n",
       "3  BS0003       81   39396.240000   7484.192040      0.069669   \n",
       "4  XY0024       85   25927.200000   5952.410880      0.045850   \n",
       "\n",
       "   Аккум.доля Выручки Категория Выручки  Доля Продажи  Аккум.доля Продажи  \\\n",
       "0            0.520751                 A      0.563636            0.563636   \n",
       "1            0.614080                 A      0.057239            0.620875   \n",
       "2            0.697213                 A      0.045118            0.777778   \n",
       "3            0.766883                 A      0.054545            0.732660   \n",
       "4            0.812733                 B      0.057239            0.678114   \n",
       "\n",
       "  Категория Продажи  Доля Маржа3  Аккум.доля Маржа3 Категория Маржа3 Категори  \n",
       "0                 A     0.636513           0.636513                A      AAA  \n",
       "1                 A     0.096021           0.732534                A      AAA  \n",
       "2                 A     0.070932           0.803466                B      AAB  \n",
       "3                 A     0.050677           0.854143                B      AAB  \n",
       "4                 A     0.040305           0.894448                B      BAB  "
      ]
     },
     "execution_count": 12,
     "metadata": {},
     "output_type": "execute_result"
    }
   ],
   "source": [
    "df['Доля Выручки'] = df[revenue]/df[revenue].sum()\n",
    "df = df.sort_values('Доля Выручки', ascending=False)\n",
    "df['Аккум.доля Выручки'] = df['Доля Выручки'].cumsum()\n",
    "df[\"Категория Выручки\"] = ' '\n",
    "df.loc[df['Аккум.доля Выручки'] <= 0.8, 'Категория Выручки' ] = 'A'\n",
    "df.loc[(df['Аккум.доля Выручки'] > 0.8) & (df['Аккум.доля Выручки'] < 0.95), 'Категория Выручки' ] = 'B'\n",
    "df.loc[df['Аккум.доля Выручки'] >= 0.95, 'Категория Выручки' ] = 'C'\n",
    "\n",
    "df['Доля Продажи'] = df[sales]/df[sales].sum()\n",
    "df = df.sort_values('Доля Продажи', ascending=False)\n",
    "df['Аккум.доля Продажи'] = df['Доля Продажи'].cumsum()\n",
    "df[\"Категория Продажи\"] = ' '\n",
    "\n",
    "df.loc[df['Аккум.доля Продажи'] <= 0.8, 'Категория Продажи' ] = 'A'\n",
    "df.loc[(df['Аккум.доля Продажи'] > 0.8) & (df['Аккум.доля Продажи'] < 0.95), 'Категория Продажи' ] = 'B'\n",
    "df.loc[df['Аккум.доля Продажи'] >= 0.95, 'Категория Продажи' ] = 'C'\n",
    "\n",
    "df['Доля Маржа3'] = df[Margin]/df[Margin].sum()\n",
    "df = df.sort_values('Доля Маржа3', ascending=False)\n",
    "df['Аккум.доля Маржа3'] = df['Доля Маржа3'].cumsum()\n",
    "df[\"Категория Маржа3\"] = ' '\n",
    "\n",
    "df.loc[df['Аккум.доля Маржа3'] <= 0.8, 'Категория Маржа3' ] = 'A'\n",
    "df.loc[(df['Аккум.доля Маржа3'] > 0.8) & (df['Аккум.доля Маржа3'] < 0.95), 'Категория Маржа3' ] = 'B'\n",
    "df.loc[df['Аккум.доля Маржа3'] >= 0.95, 'Категория Маржа3' ] = 'C'\n",
    "\n",
    "df['Категори']=df['Категория Выручки']+df['Категория Продажи']+df['Категория Маржа3']\n",
    "df = df.sort_values('Категори')\n",
    "df.head()"
   ]
  },
  {
   "cell_type": "code",
   "execution_count": 14,
   "id": "191f52ca",
   "metadata": {},
   "outputs": [
    {
     "name": "stdout",
     "output_type": "stream",
     "text": [
      "Ведите название файла для записи: WB XY\n"
     ]
    }
   ],
   "source": [
    "#Создание файла Эксель со вкладкой\n",
    "file_zapiz = input ('Ведите название файла для записи: ')\n",
    "df.to_excel(file_zapiz +'  ABC вывод.xlsx', sheet_name='ABC', index=False) "
   ]
  }
 ],
 "metadata": {
  "kernelspec": {
   "display_name": "Python 3 (ipykernel)",
   "language": "python",
   "name": "python3"
  },
  "language_info": {
   "codemirror_mode": {
    "name": "ipython",
    "version": 3
   },
   "file_extension": ".py",
   "mimetype": "text/x-python",
   "name": "python",
   "nbconvert_exporter": "python",
   "pygments_lexer": "ipython3",
   "version": "3.9.12"
  }
 },
 "nbformat": 4,
 "nbformat_minor": 5
}
