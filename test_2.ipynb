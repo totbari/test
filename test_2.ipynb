{
 "cells": [
  {
   "cell_type": "code",
   "execution_count": 1,
   "id": "f70342dc",
   "metadata": {
    "scrolled": true
   },
   "outputs": [
    {
     "name": "stdout",
     "output_type": "stream",
     "text": [
      "8\n"
     ]
    }
   ],
   "source": [
    "a = 3\n",
    "b = 5\n",
    "print(a+b)"
   ]
  },
  {
   "cell_type": "code",
   "execution_count": 2,
   "id": "bdc499bb",
   "metadata": {},
   "outputs": [
    {
     "name": "stdout",
     "output_type": "stream",
     "text": [
      "16\n"
     ]
    }
   ],
   "source": [
    "c = 2\n",
    "test = (a+b)*c\n",
    "print(test)"
   ]
  },
  {
   "cell_type": "code",
   "execution_count": 4,
   "id": "ee9e06ec",
   "metadata": {},
   "outputs": [],
   "source": [
    "def tes (a, b):\n",
    "    return a+b"
   ]
  },
  {
   "cell_type": "code",
   "execution_count": 5,
   "id": "e05a7b35",
   "metadata": {},
   "outputs": [
    {
     "data": {
      "text/plain": [
       "7"
      ]
     },
     "execution_count": 5,
     "metadata": {},
     "output_type": "execute_result"
    }
   ],
   "source": [
    "tes(3, 4)"
   ]
  },
  {
   "cell_type": "code",
   "execution_count": 24,
   "id": "381e61ca",
   "metadata": {},
   "outputs": [],
   "source": [
    "import pandas as pd"
   ]
  },
  {
   "cell_type": "code",
   "execution_count": 54,
   "id": "bbccf18c",
   "metadata": {},
   "outputs": [
    {
     "data": {
      "text/html": [
       "<div>\n",
       "<style scoped>\n",
       "    .dataframe tbody tr th:only-of-type {\n",
       "        vertical-align: middle;\n",
       "    }\n",
       "\n",
       "    .dataframe tbody tr th {\n",
       "        vertical-align: top;\n",
       "    }\n",
       "\n",
       "    .dataframe thead th {\n",
       "        text-align: right;\n",
       "    }\n",
       "</style>\n",
       "<table border=\"1\" class=\"dataframe\">\n",
       "  <thead>\n",
       "    <tr style=\"text-align: right;\">\n",
       "      <th></th>\n",
       "      <th>Отрасль</th>\n",
       "      <th>Название клиента</th>\n",
       "      <th>Регион</th>\n",
       "      <th>Филиал</th>\n",
       "      <th>Месяц</th>\n",
       "      <th>Год</th>\n",
       "      <th>Выручка</th>\n",
       "      <th>Отправки</th>\n",
       "      <th>Платный вес</th>\n",
       "    </tr>\n",
       "  </thead>\n",
       "  <tbody>\n",
       "    <tr>\n",
       "      <th>0</th>\n",
       "      <td>Интернет-магазины</td>\n",
       "      <td>Клиент 57</td>\n",
       "      <td>Москва регион</td>\n",
       "      <td>Москва</td>\n",
       "      <td>Январь</td>\n",
       "      <td>2017</td>\n",
       "      <td>802550.49</td>\n",
       "      <td>903</td>\n",
       "      <td>27469.0</td>\n",
       "    </tr>\n",
       "    <tr>\n",
       "      <th>1</th>\n",
       "      <td>Интернет-магазины</td>\n",
       "      <td>Клиент 57</td>\n",
       "      <td>Москва регион</td>\n",
       "      <td>Москва</td>\n",
       "      <td>Февраль</td>\n",
       "      <td>2017</td>\n",
       "      <td>829457.53</td>\n",
       "      <td>857</td>\n",
       "      <td>27191.8</td>\n",
       "    </tr>\n",
       "    <tr>\n",
       "      <th>2</th>\n",
       "      <td>Интернет-магазины</td>\n",
       "      <td>Клиент 57</td>\n",
       "      <td>Москва регион</td>\n",
       "      <td>Москва</td>\n",
       "      <td>Март</td>\n",
       "      <td>2017</td>\n",
       "      <td>1191803.44</td>\n",
       "      <td>1093</td>\n",
       "      <td>38728.3</td>\n",
       "    </tr>\n",
       "    <tr>\n",
       "      <th>3</th>\n",
       "      <td>Интернет-магазины</td>\n",
       "      <td>Клиент 57</td>\n",
       "      <td>Москва регион</td>\n",
       "      <td>Москва</td>\n",
       "      <td>Апрель</td>\n",
       "      <td>2017</td>\n",
       "      <td>1159131.79</td>\n",
       "      <td>1100</td>\n",
       "      <td>36164.3</td>\n",
       "    </tr>\n",
       "    <tr>\n",
       "      <th>4</th>\n",
       "      <td>Интернет-магазины</td>\n",
       "      <td>Клиент 57</td>\n",
       "      <td>Москва регион</td>\n",
       "      <td>Москва</td>\n",
       "      <td>Май</td>\n",
       "      <td>2017</td>\n",
       "      <td>1213771.51</td>\n",
       "      <td>1176</td>\n",
       "      <td>42017.0</td>\n",
       "    </tr>\n",
       "  </tbody>\n",
       "</table>\n",
       "</div>"
      ],
      "text/plain": [
       "             Отрасль Название клиента         Регион  Филиал    Месяц   Год  \\\n",
       "0  Интернет-магазины        Клиент 57  Москва регион  Москва   Январь  2017   \n",
       "1  Интернет-магазины        Клиент 57  Москва регион  Москва  Февраль  2017   \n",
       "2  Интернет-магазины        Клиент 57  Москва регион  Москва     Март  2017   \n",
       "3  Интернет-магазины        Клиент 57  Москва регион  Москва   Апрель  2017   \n",
       "4  Интернет-магазины        Клиент 57  Москва регион  Москва      Май  2017   \n",
       "\n",
       "      Выручка  Отправки  Платный вес  \n",
       "0   802550.49       903      27469.0  \n",
       "1   829457.53       857      27191.8  \n",
       "2  1191803.44      1093      38728.3  \n",
       "3  1159131.79      1100      36164.3  \n",
       "4  1213771.51      1176      42017.0  "
      ]
     },
     "execution_count": 54,
     "metadata": {},
     "output_type": "execute_result"
    }
   ],
   "source": [
    "text = pd.read_excel('Тестовое задание Excel.xlsx', sheet_name= 'Выгрузка')\n",
    "df = pd.DataFrame(text)\n",
    "df[:5]"
   ]
  },
  {
   "cell_type": "code",
   "execution_count": 61,
   "id": "036d03af",
   "metadata": {},
   "outputs": [
    {
     "name": "stdout",
     "output_type": "stream",
     "text": [
      "/Users/alekseibo/test\n"
     ]
    }
   ],
   "source": [
    "cd Users/alekseibo/test"
   ]
  },
  {
   "cell_type": "code",
   "execution_count": 55,
   "id": "3713d4c2",
   "metadata": {
    "scrolled": false
   },
   "outputs": [
    {
     "name": "stdout",
     "output_type": "stream",
     "text": [
      "fatal: not a git repository (or any of the parent directories): .git\r\n"
     ]
    }
   ],
   "source": [
    "!git add test_2.ipynb"
   ]
  },
  {
   "cell_type": "code",
   "execution_count": 43,
   "id": "b379d8cd",
   "metadata": {
    "scrolled": true
   },
   "outputs": [
    {
     "name": "stdout",
     "output_type": "stream",
     "text": [
      "[main c401a9f] открыли выгрузку csv\r\n",
      " 1 file changed, 235 insertions(+), 15 deletions(-)\r\n"
     ]
    }
   ],
   "source": [
    "!git commit -m 'открыли выгрузку csv'"
   ]
  },
  {
   "cell_type": "code",
   "execution_count": 44,
   "id": "bfc8bfd3",
   "metadata": {},
   "outputs": [
    {
     "name": "stdout",
     "output_type": "stream",
     "text": [
      "Enumerating objects: 5, done.\n",
      "Counting objects: 100% (5/5), done.\n",
      "Delta compression using up to 8 threads\n",
      "Compressing objects: 100% (2/2), done.\n",
      "Writing objects: 100% (3/3), 2.15 KiB | 2.15 MiB/s, done.\n",
      "Total 3 (delta 0), reused 0 (delta 0), pack-reused 0\n",
      "To github.com:totbari/test.git\n",
      "   3e0308e..c401a9f  main -> main\n"
     ]
    }
   ],
   "source": [
    "!git push"
   ]
  }
 ],
 "metadata": {
  "kernelspec": {
   "display_name": "Python 3 (ipykernel)",
   "language": "python",
   "name": "python3"
  },
  "language_info": {
   "codemirror_mode": {
    "name": "ipython",
    "version": 3
   },
   "file_extension": ".py",
   "mimetype": "text/x-python",
   "name": "python",
   "nbconvert_exporter": "python",
   "pygments_lexer": "ipython3",
   "version": "3.9.12"
  }
 },
 "nbformat": 4,
 "nbformat_minor": 5
}
