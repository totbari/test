{
 "cells": [
  {
   "cell_type": "markdown",
   "id": "d37688b8",
   "metadata": {},
   "source": [
    "### Проставить в дополнительном столбце статусы для клиентов, прекративших работу (lost) с указанием года и месяца потери (если клиент не совершает отправки и не приносит деньги 4 месяца)"
   ]
  },
  {
   "cell_type": "code",
   "execution_count": 1,
   "id": "148b1cfd",
   "metadata": {},
   "outputs": [],
   "source": [
    "import pandas as pd\n",
    "import numpy as np\n",
    "from datetime import datetime"
   ]
  },
  {
   "cell_type": "code",
   "execution_count": 73,
   "id": "40694a52",
   "metadata": {
    "scrolled": false
   },
   "outputs": [
    {
     "data": {
      "text/html": [
       "<div>\n",
       "<style scoped>\n",
       "    .dataframe tbody tr th:only-of-type {\n",
       "        vertical-align: middle;\n",
       "    }\n",
       "\n",
       "    .dataframe tbody tr th {\n",
       "        vertical-align: top;\n",
       "    }\n",
       "\n",
       "    .dataframe thead th {\n",
       "        text-align: right;\n",
       "    }\n",
       "</style>\n",
       "<table border=\"1\" class=\"dataframe\">\n",
       "  <thead>\n",
       "    <tr style=\"text-align: right;\">\n",
       "      <th></th>\n",
       "      <th>Название клиента</th>\n",
       "      <th>max</th>\n",
       "      <th>data_otsheta</th>\n",
       "      <th>delta</th>\n",
       "      <th>lost2</th>\n",
       "      <th>lost</th>\n",
       "    </tr>\n",
       "  </thead>\n",
       "  <tbody>\n",
       "    <tr>\n",
       "      <th>0</th>\n",
       "      <td>Клиент 1</td>\n",
       "      <td>2018-11-01</td>\n",
       "      <td>2018-12-31</td>\n",
       "      <td>1.971293</td>\n",
       "      <td>Работаем</td>\n",
       "      <td>0</td>\n",
       "    </tr>\n",
       "    <tr>\n",
       "      <th>1</th>\n",
       "      <td>Клиент 10</td>\n",
       "      <td>2018-08-01</td>\n",
       "      <td>2018-12-31</td>\n",
       "      <td>4.993942</td>\n",
       "      <td>not</td>\n",
       "      <td>2018-08</td>\n",
       "    </tr>\n",
       "    <tr>\n",
       "      <th>2</th>\n",
       "      <td>Клиент 100</td>\n",
       "      <td>2018-11-01</td>\n",
       "      <td>2018-12-31</td>\n",
       "      <td>1.971293</td>\n",
       "      <td>Работаем</td>\n",
       "      <td>0</td>\n",
       "    </tr>\n",
       "    <tr>\n",
       "      <th>3</th>\n",
       "      <td>Клиент 101</td>\n",
       "      <td>2018-08-01</td>\n",
       "      <td>2018-12-31</td>\n",
       "      <td>4.993942</td>\n",
       "      <td>not</td>\n",
       "      <td>2018-08</td>\n",
       "    </tr>\n",
       "    <tr>\n",
       "      <th>4</th>\n",
       "      <td>Клиент 102</td>\n",
       "      <td>2018-10-01</td>\n",
       "      <td>2018-12-31</td>\n",
       "      <td>2.989794</td>\n",
       "      <td>Работаем</td>\n",
       "      <td>0</td>\n",
       "    </tr>\n",
       "  </tbody>\n",
       "</table>\n",
       "</div>"
      ],
      "text/plain": [
       "  Название клиента        max data_otsheta     delta     lost2     lost\n",
       "0         Клиент 1 2018-11-01   2018-12-31  1.971293  Работаем        0\n",
       "1        Клиент 10 2018-08-01   2018-12-31  4.993942       not  2018-08\n",
       "2       Клиент 100 2018-11-01   2018-12-31  1.971293  Работаем        0\n",
       "3       Клиент 101 2018-08-01   2018-12-31  4.993942       not  2018-08\n",
       "4       Клиент 102 2018-10-01   2018-12-31  2.989794  Работаем        0"
      ]
     },
     "execution_count": 73,
     "metadata": {},
     "output_type": "execute_result"
    }
   ],
   "source": [
    "dataset = pd.read_csv('data.csv')\n",
    "dataset['Номер'] = dataset['Месяц']\n",
    "# Переименуем знечения в строках с месяцами\n",
    "dataset['Номер'] = dataset['Номер'].replace({'Апрель': '4', 'Август': \"8\", 'Декабрь': '12', 'Июль': '7',\n",
    "                                  'Июнь': '6', 'Май': '5', 'Март': '3', 'Ноябрь': '11', \n",
    "                                  'Октябрь': '10', 'Сентябрь': '9', 'Февраль': '2', 'Январь': '1'})\n",
    "dataset[\"Дата\"] = '01' + \"-\" + dataset['Номер'].astype(str) +\"-\"+ dataset['Год'].astype(str)\n",
    "# преобразовать столбец даты в формат даты\n",
    "dataset['Дата'] = pd.to_datetime(dataset['Дата'], dayfirst=True)\n",
    "df_merged = dataset.groupby('Название клиента')['Дата'].agg(['max'])\n",
    "# df_merged = df.merge(dat, how='inner', left_on = 'Название клиента', right_index = True)\n",
    "df_merged['data_otsheta'] = pd.to_datetime('2018-12-31')\n",
    "df_merged['delta'] = (df_merged['data_otsheta']-df_merged['max'])/ np.timedelta64(1, 'M')\n",
    "df_merged['lost2'] = df_merged[\"delta\"].apply(lambda x: 'not' if x > 4 else \"Работаем\")\n",
    "df_merged[\"lost\"] = df_merged['max'].dt.to_period(\"M\")\n",
    "df_merged.loc[df_merged['lost2'] == 'Работаем', 'lost'] = 0\n",
    "df_merged = df_merged.reset_index()\n",
    "df_merged[:5]"
   ]
  }
 ],
 "metadata": {
  "kernelspec": {
   "display_name": "Python 3 (ipykernel)",
   "language": "python",
   "name": "python3"
  },
  "language_info": {
   "codemirror_mode": {
    "name": "ipython",
    "version": 3
   },
   "file_extension": ".py",
   "mimetype": "text/x-python",
   "name": "python",
   "nbconvert_exporter": "python",
   "pygments_lexer": "ipython3",
   "version": "3.9.12"
  }
 },
 "nbformat": 4,
 "nbformat_minor": 5
}
